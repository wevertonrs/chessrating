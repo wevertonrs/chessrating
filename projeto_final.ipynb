{
  "nbformat": 4,
  "nbformat_minor": 0,
  "metadata": {
    "colab": {
      "provenance": [],
      "mount_file_id": "10g348yEZrC-k9Nlf5vnyARMsTBA8Stsl",
      "authorship_tag": "ABX9TyNJEbm4dymPD25dgFlkP5l+"
    },
    "kernelspec": {
      "name": "python3",
      "display_name": "Python 3"
    },
    "language_info": {
      "name": "python"
    }
  },
  "cells": [
    {
      "cell_type": "code",
      "execution_count": 1,
      "metadata": {
        "colab": {
          "base_uri": "https://localhost:8080/"
        },
        "id": "eI111vsNI_Cz",
        "outputId": "579086f7-4399-4870-a2fd-f9dd58afb923"
      },
      "outputs": [
        {
          "output_type": "stream",
          "name": "stdout",
          "text": [
            "Requirement already satisfied: kaggle in /usr/local/lib/python3.10/dist-packages (1.5.16)\n",
            "Requirement already satisfied: six>=1.10 in /usr/local/lib/python3.10/dist-packages (from kaggle) (1.16.0)\n",
            "Requirement already satisfied: certifi in /usr/local/lib/python3.10/dist-packages (from kaggle) (2024.2.2)\n",
            "Requirement already satisfied: python-dateutil in /usr/local/lib/python3.10/dist-packages (from kaggle) (2.8.2)\n",
            "Requirement already satisfied: requests in /usr/local/lib/python3.10/dist-packages (from kaggle) (2.31.0)\n",
            "Requirement already satisfied: tqdm in /usr/local/lib/python3.10/dist-packages (from kaggle) (4.66.2)\n",
            "Requirement already satisfied: python-slugify in /usr/local/lib/python3.10/dist-packages (from kaggle) (8.0.4)\n",
            "Requirement already satisfied: urllib3 in /usr/local/lib/python3.10/dist-packages (from kaggle) (2.0.7)\n",
            "Requirement already satisfied: bleach in /usr/local/lib/python3.10/dist-packages (from kaggle) (6.1.0)\n",
            "Requirement already satisfied: webencodings in /usr/local/lib/python3.10/dist-packages (from bleach->kaggle) (0.5.1)\n",
            "Requirement already satisfied: text-unidecode>=1.3 in /usr/local/lib/python3.10/dist-packages (from python-slugify->kaggle) (1.3)\n",
            "Requirement already satisfied: charset-normalizer<4,>=2 in /usr/local/lib/python3.10/dist-packages (from requests->kaggle) (3.3.2)\n",
            "Requirement already satisfied: idna<4,>=2.5 in /usr/local/lib/python3.10/dist-packages (from requests->kaggle) (3.6)\n"
          ]
        }
      ],
      "source": [
        "!pip install kaggle"
      ]
    },
    {
      "cell_type": "code",
      "source": [
        "!mkdir ~/.kaggle\n",
        "!cp /content/kaggle.json ~/.kaggle/kaggle.json"
      ],
      "metadata": {
        "colab": {
          "base_uri": "https://localhost:8080/"
        },
        "id": "7-KnWzkNMwJz",
        "outputId": "79d50df4-fc17-45f6-8df8-d3aaf76877fc"
      },
      "execution_count": 3,
      "outputs": [
        {
          "output_type": "stream",
          "name": "stdout",
          "text": [
            "mkdir: cannot create directory ‘/root/.kaggle’: File exists\n"
          ]
        }
      ]
    },
    {
      "cell_type": "code",
      "source": [
        "!chmod 600 /root/.kaggle/kaggle.json"
      ],
      "metadata": {
        "id": "KqgJlGtrOULp"
      },
      "execution_count": 5,
      "outputs": []
    },
    {
      "cell_type": "code",
      "source": [
        "!kaggle datasets download -d datasnaek/chess"
      ],
      "metadata": {
        "colab": {
          "base_uri": "https://localhost:8080/"
        },
        "id": "TRHFDDOJN8Sf",
        "outputId": "03900f62-e255-44c6-dbb0-ed472228952b"
      },
      "execution_count": 4,
      "outputs": [
        {
          "output_type": "stream",
          "name": "stdout",
          "text": [
            "Warning: Your Kaggle API key is readable by other users on this system! To fix this, you can run 'chmod 600 /root/.kaggle/kaggle.json'\n",
            "Downloading chess.zip to /content\n",
            "  0% 0.00/2.77M [00:00<?, ?B/s]\n",
            "100% 2.77M/2.77M [00:00<00:00, 163MB/s]\n"
          ]
        }
      ]
    },
    {
      "cell_type": "code",
      "source": [
        "!unzip chess.zip"
      ],
      "metadata": {
        "colab": {
          "base_uri": "https://localhost:8080/"
        },
        "id": "ale5S-wAOmJ-",
        "outputId": "b1d6aaf6-82f3-4ff9-a5d5-b320acc9cc44"
      },
      "execution_count": 6,
      "outputs": [
        {
          "output_type": "stream",
          "name": "stdout",
          "text": [
            "Archive:  chess.zip\n",
            "  inflating: games.csv               \n"
          ]
        }
      ]
    },
    {
      "cell_type": "markdown",
      "source": [
        "Gerado o arquivo games.csv\n",
        "\n",
        "Descrição geral:\n",
        "\n",
        "General Info\n",
        "\n",
        "This is a set of just over 20,000 games collected from a selection of users on the site Lichess.org, and how to collect more. I will also upload more games in the future as I collect them. This set contains the:\n",
        "\n",
        "Game ID;\n",
        "Rated (T/F);\n",
        "Start Time;\n",
        "End Time;\n",
        "Number of Turns;\n",
        "Game Status;\n",
        "Winner;\n",
        "Time Increment;\n",
        "White Player ID;\n",
        "White Player Rating;\n",
        "Black Player ID;\n",
        "Black Player Rating;\n",
        "All Moves in Standard Chess Notation;\n",
        "Opening Eco (Standardised Code for any given opening, list here);\n",
        "Opening Name;\n",
        "Opening Ply (Number of moves in the opening phase)\n",
        "For each of these separate games from Lichess. I collected this data using the Lichess API, which enables collection of any given users game history. The difficult part was collecting usernames to use, however the API also enables dumping of all users in a Lichess team. There are several teams on Lichess with over 1,500 players, so this proved an effective way to get users to collect games from."
      ],
      "metadata": {
        "id": "ddoHD9zGO_PZ"
      }
    },
    {
      "cell_type": "code",
      "source": [
        "import polars as pl"
      ],
      "metadata": {
        "id": "fLoxecKKPOu5"
      },
      "execution_count": 118,
      "outputs": []
    },
    {
      "cell_type": "code",
      "source": [
        "df = pl.read_csv(\"games.csv\")"
      ],
      "metadata": {
        "id": "1oMDI4q0PtoL"
      },
      "execution_count": 119,
      "outputs": []
    },
    {
      "cell_type": "code",
      "source": [
        "df.head()"
      ],
      "metadata": {
        "colab": {
          "base_uri": "https://localhost:8080/",
          "height": 501
        },
        "id": "JhfQkxBsRN6Q",
        "outputId": "cd850419-11d1-4bf9-b144-a7694bcef8dc"
      },
      "execution_count": 120,
      "outputs": [
        {
          "output_type": "execute_result",
          "data": {
            "text/plain": [
              "shape: (5, 16)\n",
              "┌──────────┬───────┬────────────┬────────────┬───┬────────────┬────────────┬───────────┬───────────┐\n",
              "│ id       ┆ rated ┆ created_at ┆ last_move_ ┆ … ┆ moves      ┆ opening_ec ┆ opening_n ┆ opening_p │\n",
              "│ ---      ┆ ---   ┆ ---        ┆ at         ┆   ┆ ---        ┆ o          ┆ ame       ┆ ly        │\n",
              "│ str      ┆ bool  ┆ f64        ┆ ---        ┆   ┆ str        ┆ ---        ┆ ---       ┆ ---       │\n",
              "│          ┆       ┆            ┆ f64        ┆   ┆            ┆ str        ┆ str       ┆ i64       │\n",
              "╞══════════╪═══════╪════════════╪════════════╪═══╪════════════╪════════════╪═══════════╪═══════════╡\n",
              "│ TZJHLljE ┆ false ┆ 1.5042e12  ┆ 1.5042e12  ┆ … ┆ d4 d5 c4   ┆ D10        ┆ Slav      ┆ 5         │\n",
              "│          ┆       ┆            ┆            ┆   ┆ c6 cxd5 e6 ┆            ┆ Defense:  ┆           │\n",
              "│          ┆       ┆            ┆            ┆   ┆ dxe6 fxe6  ┆            ┆ Exchange  ┆           │\n",
              "│          ┆       ┆            ┆            ┆   ┆ Nf…        ┆            ┆ Variation ┆           │\n",
              "│ l1NXvwaE ┆ true  ┆ 1.5041e12  ┆ 1.5041e12  ┆ … ┆ d4 Nc6 e4  ┆ B00        ┆ Nimzowits ┆ 4         │\n",
              "│          ┆       ┆            ┆            ┆   ┆ e5 f4 f6   ┆            ┆ ch        ┆           │\n",
              "│          ┆       ┆            ┆            ┆   ┆ dxe5 fxe5  ┆            ┆ Defense:  ┆           │\n",
              "│          ┆       ┆            ┆            ┆   ┆ fxe…       ┆            ┆ Kennedy   ┆           │\n",
              "│          ┆       ┆            ┆            ┆   ┆            ┆            ┆ Var…      ┆           │\n",
              "│ mIICvQHh ┆ true  ┆ 1.5041e12  ┆ 1.5041e12  ┆ … ┆ e4 e5 d3   ┆ C20        ┆ King's    ┆ 3         │\n",
              "│          ┆       ┆            ┆            ┆   ┆ d6 Be3 c6  ┆            ┆ Pawn      ┆           │\n",
              "│          ┆       ┆            ┆            ┆   ┆ Be2 b5 Nd2 ┆            ┆ Game:     ┆           │\n",
              "│          ┆       ┆            ┆            ┆   ┆ a5…        ┆            ┆ Leonardis ┆           │\n",
              "│          ┆       ┆            ┆            ┆   ┆            ┆            ┆ Vari…     ┆           │\n",
              "│ kWKvrqYL ┆ true  ┆ 1.5041e12  ┆ 1.5041e12  ┆ … ┆ d4 d5 Nf3  ┆ D02        ┆ Queen's   ┆ 3         │\n",
              "│          ┆       ┆            ┆            ┆   ┆ Bf5 Nc3    ┆            ┆ Pawn      ┆           │\n",
              "│          ┆       ┆            ┆            ┆   ┆ Nf6 Bf4    ┆            ┆ Game:     ┆           │\n",
              "│          ┆       ┆            ┆            ┆   ┆ Ng4 e3…    ┆            ┆ Zukertort ┆           │\n",
              "│          ┆       ┆            ┆            ┆   ┆            ┆            ┆ Var…      ┆           │\n",
              "│ 9tXo1AUZ ┆ true  ┆ 1.5040e12  ┆ 1.5040e12  ┆ … ┆ e4 e5 Nf3  ┆ C41        ┆ Philidor  ┆ 5         │\n",
              "│          ┆       ┆            ┆            ┆   ┆ d6 d4 Nc6  ┆            ┆ Defense   ┆           │\n",
              "│          ┆       ┆            ┆            ┆   ┆ d5 Nb4 a3  ┆            ┆           ┆           │\n",
              "│          ┆       ┆            ┆            ┆   ┆ Na…        ┆            ┆           ┆           │\n",
              "└──────────┴───────┴────────────┴────────────┴───┴────────────┴────────────┴───────────┴───────────┘"
            ],
            "text/html": [
              "<div><style>\n",
              ".dataframe > thead > tr,\n",
              ".dataframe > tbody > tr {\n",
              "  text-align: right;\n",
              "  white-space: pre-wrap;\n",
              "}\n",
              "</style>\n",
              "<small>shape: (5, 16)</small><table border=\"1\" class=\"dataframe\"><thead><tr><th>id</th><th>rated</th><th>created_at</th><th>last_move_at</th><th>turns</th><th>victory_status</th><th>winner</th><th>increment_code</th><th>white_id</th><th>white_rating</th><th>black_id</th><th>black_rating</th><th>moves</th><th>opening_eco</th><th>opening_name</th><th>opening_ply</th></tr><tr><td>str</td><td>bool</td><td>f64</td><td>f64</td><td>i64</td><td>str</td><td>str</td><td>str</td><td>str</td><td>i64</td><td>str</td><td>i64</td><td>str</td><td>str</td><td>str</td><td>i64</td></tr></thead><tbody><tr><td>&quot;TZJHLljE&quot;</td><td>false</td><td>1.5042e12</td><td>1.5042e12</td><td>13</td><td>&quot;outoftime&quot;</td><td>&quot;white&quot;</td><td>&quot;15+2&quot;</td><td>&quot;bourgris&quot;</td><td>1500</td><td>&quot;a-00&quot;</td><td>1191</td><td>&quot;d4 d5 c4 c6 cx…</td><td>&quot;D10&quot;</td><td>&quot;Slav Defense: …</td><td>5</td></tr><tr><td>&quot;l1NXvwaE&quot;</td><td>true</td><td>1.5041e12</td><td>1.5041e12</td><td>16</td><td>&quot;resign&quot;</td><td>&quot;black&quot;</td><td>&quot;5+10&quot;</td><td>&quot;a-00&quot;</td><td>1322</td><td>&quot;skinnerua&quot;</td><td>1261</td><td>&quot;d4 Nc6 e4 e5 f…</td><td>&quot;B00&quot;</td><td>&quot;Nimzowitsch De…</td><td>4</td></tr><tr><td>&quot;mIICvQHh&quot;</td><td>true</td><td>1.5041e12</td><td>1.5041e12</td><td>61</td><td>&quot;mate&quot;</td><td>&quot;white&quot;</td><td>&quot;5+10&quot;</td><td>&quot;ischia&quot;</td><td>1496</td><td>&quot;a-00&quot;</td><td>1500</td><td>&quot;e4 e5 d3 d6 Be…</td><td>&quot;C20&quot;</td><td>&quot;King&#x27;s Pawn Ga…</td><td>3</td></tr><tr><td>&quot;kWKvrqYL&quot;</td><td>true</td><td>1.5041e12</td><td>1.5041e12</td><td>61</td><td>&quot;mate&quot;</td><td>&quot;white&quot;</td><td>&quot;20+0&quot;</td><td>&quot;daniamurashov&quot;</td><td>1439</td><td>&quot;adivanov2009&quot;</td><td>1454</td><td>&quot;d4 d5 Nf3 Bf5 …</td><td>&quot;D02&quot;</td><td>&quot;Queen&#x27;s Pawn G…</td><td>3</td></tr><tr><td>&quot;9tXo1AUZ&quot;</td><td>true</td><td>1.5040e12</td><td>1.5040e12</td><td>95</td><td>&quot;mate&quot;</td><td>&quot;white&quot;</td><td>&quot;30+3&quot;</td><td>&quot;nik221107&quot;</td><td>1523</td><td>&quot;adivanov2009&quot;</td><td>1469</td><td>&quot;e4 e5 Nf3 d6 d…</td><td>&quot;C41&quot;</td><td>&quot;Philidor Defen…</td><td>5</td></tr></tbody></table></div>"
            ]
          },
          "metadata": {},
          "execution_count": 120
        }
      ]
    },
    {
      "cell_type": "code",
      "source": [
        "df = df.drop(['id', 'created_at', 'last_move_at', 'turns', 'victory_status', 'increment_code', 'white_id', 'black_id', 'moves', 'opening_eco', 'opening_name', 'opening_ply'])"
      ],
      "metadata": {
        "id": "IIDa9VvGRcSL"
      },
      "execution_count": 121,
      "outputs": []
    },
    {
      "cell_type": "code",
      "source": [
        "df.head(10)"
      ],
      "metadata": {
        "colab": {
          "base_uri": "https://localhost:8080/",
          "height": 412
        },
        "id": "EtgmtIZBRyzt",
        "outputId": "a3b0c489-839f-4be2-88fb-01fdcf8bd073"
      },
      "execution_count": 122,
      "outputs": [
        {
          "output_type": "execute_result",
          "data": {
            "text/plain": [
              "shape: (10, 4)\n",
              "┌───────┬────────┬──────────────┬──────────────┐\n",
              "│ rated ┆ winner ┆ white_rating ┆ black_rating │\n",
              "│ ---   ┆ ---    ┆ ---          ┆ ---          │\n",
              "│ bool  ┆ str    ┆ i64          ┆ i64          │\n",
              "╞═══════╪════════╪══════════════╪══════════════╡\n",
              "│ false ┆ white  ┆ 1500         ┆ 1191         │\n",
              "│ true  ┆ black  ┆ 1322         ┆ 1261         │\n",
              "│ true  ┆ white  ┆ 1496         ┆ 1500         │\n",
              "│ true  ┆ white  ┆ 1439         ┆ 1454         │\n",
              "│ …     ┆ …      ┆ …            ┆ …            │\n",
              "│ true  ┆ white  ┆ 1520         ┆ 1423         │\n",
              "│ false ┆ black  ┆ 1413         ┆ 2108         │\n",
              "│ true  ┆ black  ┆ 1439         ┆ 1392         │\n",
              "│ true  ┆ white  ┆ 1381         ┆ 1209         │\n",
              "└───────┴────────┴──────────────┴──────────────┘"
            ],
            "text/html": [
              "<div><style>\n",
              ".dataframe > thead > tr,\n",
              ".dataframe > tbody > tr {\n",
              "  text-align: right;\n",
              "  white-space: pre-wrap;\n",
              "}\n",
              "</style>\n",
              "<small>shape: (10, 4)</small><table border=\"1\" class=\"dataframe\"><thead><tr><th>rated</th><th>winner</th><th>white_rating</th><th>black_rating</th></tr><tr><td>bool</td><td>str</td><td>i64</td><td>i64</td></tr></thead><tbody><tr><td>false</td><td>&quot;white&quot;</td><td>1500</td><td>1191</td></tr><tr><td>true</td><td>&quot;black&quot;</td><td>1322</td><td>1261</td></tr><tr><td>true</td><td>&quot;white&quot;</td><td>1496</td><td>1500</td></tr><tr><td>true</td><td>&quot;white&quot;</td><td>1439</td><td>1454</td></tr><tr><td>true</td><td>&quot;white&quot;</td><td>1523</td><td>1469</td></tr><tr><td>false</td><td>&quot;draw&quot;</td><td>1250</td><td>1002</td></tr><tr><td>true</td><td>&quot;white&quot;</td><td>1520</td><td>1423</td></tr><tr><td>false</td><td>&quot;black&quot;</td><td>1413</td><td>2108</td></tr><tr><td>true</td><td>&quot;black&quot;</td><td>1439</td><td>1392</td></tr><tr><td>true</td><td>&quot;white&quot;</td><td>1381</td><td>1209</td></tr></tbody></table></div>"
            ]
          },
          "metadata": {},
          "execution_count": 122
        }
      ]
    },
    {
      "cell_type": "code",
      "source": [
        "df.describe()"
      ],
      "metadata": {
        "colab": {
          "base_uri": "https://localhost:8080/",
          "height": 380
        },
        "id": "DoZzqpNTTuBp",
        "outputId": "80db48b6-e2fb-41d4-dca3-4f44179e8937"
      },
      "execution_count": 123,
      "outputs": [
        {
          "output_type": "execute_result",
          "data": {
            "text/plain": [
              "shape: (9, 5)\n",
              "┌────────────┬───────┬────────┬──────────────┬──────────────┐\n",
              "│ describe   ┆ rated ┆ winner ┆ white_rating ┆ black_rating │\n",
              "│ ---        ┆ ---   ┆ ---    ┆ ---          ┆ ---          │\n",
              "│ str        ┆ str   ┆ str    ┆ f64          ┆ f64          │\n",
              "╞════════════╪═══════╪════════╪══════════════╪══════════════╡\n",
              "│ count      ┆ 20058 ┆ 20058  ┆ 20058.0      ┆ 20058.0      │\n",
              "│ null_count ┆ 0     ┆ 0      ┆ 0.0          ┆ 0.0          │\n",
              "│ mean       ┆ null  ┆ null   ┆ 1596.631868  ┆ 1588.831987  │\n",
              "│ std        ┆ null  ┆ null   ┆ 291.253376   ┆ 291.036126   │\n",
              "│ min        ┆ False ┆ black  ┆ 784.0        ┆ 789.0        │\n",
              "│ 25%        ┆ null  ┆ null   ┆ 1398.0       ┆ 1391.0       │\n",
              "│ 50%        ┆ null  ┆ null   ┆ 1567.0       ┆ 1562.0       │\n",
              "│ 75%        ┆ null  ┆ null   ┆ 1793.0       ┆ 1784.0       │\n",
              "│ max        ┆ True  ┆ white  ┆ 2700.0       ┆ 2723.0       │\n",
              "└────────────┴───────┴────────┴──────────────┴──────────────┘"
            ],
            "text/html": [
              "<div><style>\n",
              ".dataframe > thead > tr,\n",
              ".dataframe > tbody > tr {\n",
              "  text-align: right;\n",
              "  white-space: pre-wrap;\n",
              "}\n",
              "</style>\n",
              "<small>shape: (9, 5)</small><table border=\"1\" class=\"dataframe\"><thead><tr><th>describe</th><th>rated</th><th>winner</th><th>white_rating</th><th>black_rating</th></tr><tr><td>str</td><td>str</td><td>str</td><td>f64</td><td>f64</td></tr></thead><tbody><tr><td>&quot;count&quot;</td><td>&quot;20058&quot;</td><td>&quot;20058&quot;</td><td>20058.0</td><td>20058.0</td></tr><tr><td>&quot;null_count&quot;</td><td>&quot;0&quot;</td><td>&quot;0&quot;</td><td>0.0</td><td>0.0</td></tr><tr><td>&quot;mean&quot;</td><td>null</td><td>null</td><td>1596.631868</td><td>1588.831987</td></tr><tr><td>&quot;std&quot;</td><td>null</td><td>null</td><td>291.253376</td><td>291.036126</td></tr><tr><td>&quot;min&quot;</td><td>&quot;False&quot;</td><td>&quot;black&quot;</td><td>784.0</td><td>789.0</td></tr><tr><td>&quot;25%&quot;</td><td>null</td><td>null</td><td>1398.0</td><td>1391.0</td></tr><tr><td>&quot;50%&quot;</td><td>null</td><td>null</td><td>1567.0</td><td>1562.0</td></tr><tr><td>&quot;75%&quot;</td><td>null</td><td>null</td><td>1793.0</td><td>1784.0</td></tr><tr><td>&quot;max&quot;</td><td>&quot;True&quot;</td><td>&quot;white&quot;</td><td>2700.0</td><td>2723.0</td></tr></tbody></table></div>"
            ]
          },
          "metadata": {},
          "execution_count": 123
        }
      ]
    },
    {
      "cell_type": "code",
      "source": [
        "df.sum()"
      ],
      "metadata": {
        "colab": {
          "base_uri": "https://localhost:8080/",
          "height": 129
        },
        "id": "ER_5YnPLR713",
        "outputId": "22650efd-801d-4953-dd57-3f1bb1e6c741"
      },
      "execution_count": 124,
      "outputs": [
        {
          "output_type": "execute_result",
          "data": {
            "text/plain": [
              "shape: (1, 4)\n",
              "┌───────┬────────┬──────────────┬──────────────┐\n",
              "│ rated ┆ winner ┆ white_rating ┆ black_rating │\n",
              "│ ---   ┆ ---    ┆ ---          ┆ ---          │\n",
              "│ u32   ┆ str    ┆ i64          ┆ i64          │\n",
              "╞═══════╪════════╪══════════════╪══════════════╡\n",
              "│ 16155 ┆ null   ┆ 32025242     ┆ 31868792     │\n",
              "└───────┴────────┴──────────────┴──────────────┘"
            ],
            "text/html": [
              "<div><style>\n",
              ".dataframe > thead > tr,\n",
              ".dataframe > tbody > tr {\n",
              "  text-align: right;\n",
              "  white-space: pre-wrap;\n",
              "}\n",
              "</style>\n",
              "<small>shape: (1, 4)</small><table border=\"1\" class=\"dataframe\"><thead><tr><th>rated</th><th>winner</th><th>white_rating</th><th>black_rating</th></tr><tr><td>u32</td><td>str</td><td>i64</td><td>i64</td></tr></thead><tbody><tr><td>16155</td><td>null</td><td>32025242</td><td>31868792</td></tr></tbody></table></div>"
            ]
          },
          "metadata": {},
          "execution_count": 124
        }
      ]
    },
    {
      "cell_type": "code",
      "source": [
        "df.group_by('winner').agg()"
      ],
      "metadata": {
        "colab": {
          "base_uri": "https://localhost:8080/",
          "height": 192
        },
        "id": "iyW5KcJTXyu-",
        "outputId": "82067541-653b-4a6c-ba5e-52f32c9b52a1"
      },
      "execution_count": 125,
      "outputs": [
        {
          "output_type": "execute_result",
          "data": {
            "text/plain": [
              "shape: (3, 1)\n",
              "┌────────┐\n",
              "│ winner │\n",
              "│ ---    │\n",
              "│ str    │\n",
              "╞════════╡\n",
              "│ white  │\n",
              "│ black  │\n",
              "│ draw   │\n",
              "└────────┘"
            ],
            "text/html": [
              "<div><style>\n",
              ".dataframe > thead > tr,\n",
              ".dataframe > tbody > tr {\n",
              "  text-align: right;\n",
              "  white-space: pre-wrap;\n",
              "}\n",
              "</style>\n",
              "<small>shape: (3, 1)</small><table border=\"1\" class=\"dataframe\"><thead><tr><th>winner</th></tr><tr><td>str</td></tr></thead><tbody><tr><td>&quot;white&quot;</td></tr><tr><td>&quot;black&quot;</td></tr><tr><td>&quot;draw&quot;</td></tr></tbody></table></div>"
            ]
          },
          "metadata": {},
          "execution_count": 125
        }
      ]
    },
    {
      "cell_type": "code",
      "source": [
        "# Filter where rated == 'true' and winner != 'draw'\n",
        "\n",
        "ndf = df.filter((df['rated'] == True) & (df['winner'] != 'draw'))"
      ],
      "metadata": {
        "id": "d0lE8_85ZE8U"
      },
      "execution_count": 126,
      "outputs": []
    },
    {
      "cell_type": "code",
      "source": [
        "ndf.describe()"
      ],
      "metadata": {
        "colab": {
          "base_uri": "https://localhost:8080/",
          "height": 380
        },
        "id": "mgxOnmzZaIsH",
        "outputId": "b85fd8cb-d81c-42d0-f8cf-50d0d42ec41b"
      },
      "execution_count": 127,
      "outputs": [
        {
          "output_type": "execute_result",
          "data": {
            "text/plain": [
              "shape: (9, 5)\n",
              "┌────────────┬───────┬────────┬──────────────┬──────────────┐\n",
              "│ describe   ┆ rated ┆ winner ┆ white_rating ┆ black_rating │\n",
              "│ ---        ┆ ---   ┆ ---    ┆ ---          ┆ ---          │\n",
              "│ str        ┆ str   ┆ str    ┆ f64          ┆ f64          │\n",
              "╞════════════╪═══════╪════════╪══════════════╪══════════════╡\n",
              "│ count      ┆ 15436 ┆ 15436  ┆ 15436.0      ┆ 15436.0      │\n",
              "│ null_count ┆ 0     ┆ 0      ┆ 0.0          ┆ 0.0          │\n",
              "│ mean       ┆ null  ┆ null   ┆ 1595.242679  ┆ 1591.263475  │\n",
              "│ std        ┆ null  ┆ null   ┆ 283.052895   ┆ 288.689775   │\n",
              "│ min        ┆ True  ┆ black  ┆ 784.0        ┆ 789.0        │\n",
              "│ 25%        ┆ null  ┆ null   ┆ 1394.0       ┆ 1389.0       │\n",
              "│ 50%        ┆ null  ┆ null   ┆ 1575.0       ┆ 1571.0       │\n",
              "│ 75%        ┆ null  ┆ null   ┆ 1791.0       ┆ 1788.0       │\n",
              "│ max        ┆ True  ┆ white  ┆ 2622.0       ┆ 2588.0       │\n",
              "└────────────┴───────┴────────┴──────────────┴──────────────┘"
            ],
            "text/html": [
              "<div><style>\n",
              ".dataframe > thead > tr,\n",
              ".dataframe > tbody > tr {\n",
              "  text-align: right;\n",
              "  white-space: pre-wrap;\n",
              "}\n",
              "</style>\n",
              "<small>shape: (9, 5)</small><table border=\"1\" class=\"dataframe\"><thead><tr><th>describe</th><th>rated</th><th>winner</th><th>white_rating</th><th>black_rating</th></tr><tr><td>str</td><td>str</td><td>str</td><td>f64</td><td>f64</td></tr></thead><tbody><tr><td>&quot;count&quot;</td><td>&quot;15436&quot;</td><td>&quot;15436&quot;</td><td>15436.0</td><td>15436.0</td></tr><tr><td>&quot;null_count&quot;</td><td>&quot;0&quot;</td><td>&quot;0&quot;</td><td>0.0</td><td>0.0</td></tr><tr><td>&quot;mean&quot;</td><td>null</td><td>null</td><td>1595.242679</td><td>1591.263475</td></tr><tr><td>&quot;std&quot;</td><td>null</td><td>null</td><td>283.052895</td><td>288.689775</td></tr><tr><td>&quot;min&quot;</td><td>&quot;True&quot;</td><td>&quot;black&quot;</td><td>784.0</td><td>789.0</td></tr><tr><td>&quot;25%&quot;</td><td>null</td><td>null</td><td>1394.0</td><td>1389.0</td></tr><tr><td>&quot;50%&quot;</td><td>null</td><td>null</td><td>1575.0</td><td>1571.0</td></tr><tr><td>&quot;75%&quot;</td><td>null</td><td>null</td><td>1791.0</td><td>1788.0</td></tr><tr><td>&quot;max&quot;</td><td>&quot;True&quot;</td><td>&quot;white&quot;</td><td>2622.0</td><td>2588.0</td></tr></tbody></table></div>"
            ]
          },
          "metadata": {},
          "execution_count": 127
        }
      ]
    },
    {
      "cell_type": "code",
      "source": [
        "ndf = ndf.with_columns(\n",
        "    pl.when(ndf['winner'] == 'white')\n",
        "      .then(ndf['white_rating'])\n",
        "      .otherwise(ndf['black_rating'])\n",
        "      .alias('winner_rating_value'))"
      ],
      "metadata": {
        "id": "Ll8owYGZbxNU"
      },
      "execution_count": 128,
      "outputs": []
    },
    {
      "cell_type": "code",
      "source": [
        "# major_rating_has_won\n",
        "\n",
        "ndf = ndf.with_columns(\n",
        "    pl.when((ndf['winner'] == 'white') & (ndf['winner_rating_value'] == ndf['white_rating']))\n",
        "    .then(True)\n",
        "    .otherwise(False)\n",
        "    .alias('major_rating_has_won')\n",
        ")"
      ],
      "metadata": {
        "id": "94hoWpr2d7VS"
      },
      "execution_count": 129,
      "outputs": []
    },
    {
      "cell_type": "code",
      "source": [
        "ndf = ndf.with_columns(abs(pl.col('white_rating') - pl.col('black_rating')).alias('rating_difference'))"
      ],
      "metadata": {
        "id": "uagq5qbNfhVB"
      },
      "execution_count": 130,
      "outputs": []
    },
    {
      "cell_type": "code",
      "source": [
        "import numpy as np\n",
        "import matplotlib.pyplot as plt"
      ],
      "metadata": {
        "id": "wgKhSnVxgFga"
      },
      "execution_count": 131,
      "outputs": []
    },
    {
      "cell_type": "code",
      "source": [
        "rating_difference_values = ndf['rating_difference'].to_numpy()\n",
        "\n",
        "# Criar o histograma usando Matplotlib\n",
        "plt.hist(rating_difference_values, bins=50, color='yellow', edgecolor='black')\n",
        "\n",
        "# Adicionar rótulos e título\n",
        "plt.xlabel('Diferença de rating entre os jogadores')\n",
        "plt.ylabel('Quantidade de jogos coletados')\n",
        "plt.title ('Histograma de diferenças de rating')\n",
        "\n",
        "# Exibir o histograma\n",
        "plt.show()\n"
      ],
      "metadata": {
        "colab": {
          "base_uri": "https://localhost:8080/",
          "height": 472
        },
        "id": "_LSQf149g4iL",
        "outputId": "44d165c8-e41d-4c33-aab1-cb4cbdd16ce8"
      },
      "execution_count": 132,
      "outputs": [
        {
          "output_type": "display_data",
          "data": {
            "text/plain": [
              "<Figure size 640x480 with 1 Axes>"
            ],
            "image/png": "[encoded data removed]"
          },
          "metadata": {}
        }
      ]
    },
    {
      "cell_type": "code",
      "source": [
        "# Total registers\n",
        "total_registers = ndf.height\n",
        "\n",
        "# Filter percentual\n",
        "count_major_rating_won = ndf.filter(ndf['major_rating_has_won'] == True).height\n",
        "percent_major_rating_won = (count_major_rating_won / total_registers) * 100\n",
        "percent_major_rating_lost = abs(1 - percent_major_rating_won)\n",
        "\n",
        "# Criar o gráfico de barras\n",
        "plt.bar(['Vitória do maior rating', 'Derrota do maior rating'],\n",
        "        [percent_major_rating_won, percent_major_rating_lost],\n",
        "        color=['green', 'red'],\n",
        "        width=0.75)\n",
        "\n",
        "# Adicionar rótulos e título\n",
        "plt.ylabel('Percentual')\n",
        "plt.title('Comparação do resultado do maior rating (em %)')\n",
        "\n",
        "plt.text(0, percent_major_rating_won, f'{percent_major_rating_won:.2f}%', ha='center', va='bottom')\n",
        "plt.text(1, percent_major_rating_lost, f'{percent_major_rating_lost:.2f}%', ha='center', va='bottom')\n",
        "\n",
        "# Exibir o gráfico\n",
        "plt.show()\n",
        "\n",
        "total_percent_major_rating_won = percent_major_rating_won"
      ],
      "metadata": {
        "colab": {
          "base_uri": "https://localhost:8080/",
          "height": 453
        },
        "id": "oYubMAzVkese",
        "outputId": "abd75275-d45b-4ffd-f756-a4e7b6bc2482"
      },
      "execution_count": 165,
      "outputs": [
        {
          "output_type": "display_data",
          "data": {
            "text/plain": [
              "<Figure size 640x480 with 1 Axes>"
            ],
            "image/png": "[encoded data removed]"
          },
          "metadata": {}
        }
      ]
    },
    {
      "cell_type": "code",
      "source": [
        "# Inicializar os intervalos de diferença de rating\n",
        "intervalos = [(0, 100), (100, 200), (200, 400), (400, ndf['rating_difference'].max())]\n",
        "\n",
        "# Inicializar listas para armazenar as porcentagens de vitória do maior rating em cada intervalo\n",
        "percentagens_won = []\n",
        "\n",
        "# Calcular as porcentagens de vitória do maior rating para cada intervalo\n",
        "for intervalo in intervalos:\n",
        "    min_diff, max_diff = intervalo\n",
        "\n",
        "    # Filtrar os dados para o intervalo de diferença de rating\n",
        "    filtered_df = ndf.filter((ndf['rating_difference'] >= min_diff) & (ndf['rating_difference'] < max_diff))\n",
        "\n",
        "\n",
        "    # Contar os casos de vitória do maior rating\n",
        "    count_major_rating_won = filtered_df.filter(filtered_df['major_rating_has_won'] == True).height\n",
        "\n",
        "    # Calcular a porcentagem de vitória do maior rating\n",
        "    percent_major_rating_won = (count_major_rating_won / filtered_df.height) * 100\n",
        "\n",
        "    # Adicionar à lista de porcentagens de vitória\n",
        "    percentagens_won.append(percent_major_rating_won)\n",
        "\n",
        "# Preparar os rótulos das barras\n",
        "labels = [f'{min_diff}-{max_diff}' for min_diff, max_diff in intervalos]\n",
        "\n",
        "# Criar o gráfico de barras\n",
        "plt.bar(labels, percentagens_won, color='green')\n",
        "\n",
        "# Adicionar rótulos e título\n",
        "plt.xlabel('Intervalo de Diferença de Rating')\n",
        "plt.ylabel('Porcentagem de Vitória do Maior Rating')\n",
        "plt.title('Porcentagem de Vitória do Maior Rating \\n por Intervalo ==> (% geral): ' + str(total_percent_major_rating_won)[:5])\n",
        "\n",
        "for i, percentagem in enumerate(percentagens_won):\n",
        "    plt.text(i, percentagem, f'{percentagem:.2f}%', ha='center', va='bottom')\n",
        "\n",
        "# Rotacionar os rótulos do eixo x para melhor visualização\n",
        "plt.xticks(rotation=45, ha='right')\n",
        "\n",
        "# Exibir o gráfico\n",
        "plt.show()\n"
      ],
      "metadata": {
        "colab": {
          "base_uri": "https://localhost:8080/",
          "height": 536
        },
        "id": "5RPV0-NgkyiC",
        "outputId": "b4cdb709-5112-4008-d2ca-e3efffaadf6f"
      },
      "execution_count": 166,
      "outputs": [
        {
          "output_type": "display_data",
          "data": {
            "text/plain": [
              "<Figure size 640x480 with 1 Axes>"
            ],
            "image/png": "[encoded data removed]"
          },
          "metadata": {}
        }
      ]
    },
    {
      "cell_type": "code",
      "source": [
        "df_70_percent = ndf.sample(fraction=0.7, shuffle=True)\n",
        "df_30_percent = ndf.sample(fraction=0.3, shuffle=True)"
      ],
      "metadata": {
        "id": "wbvMXnE3wJfE"
      },
      "execution_count": 172,
      "outputs": []
    },
    {
      "cell_type": "code",
      "source": [
        "df_70_percent.write_csv(\"70perc_df.csv\")\n",
        "df_30_percent.write_csv(\"30perc_df.csv\")"
      ],
      "metadata": {
        "id": "0dqXIkzI1t6s"
      },
      "execution_count": 178,
      "outputs": []
    },
    {
      "cell_type": "code",
      "source": [
        "df_70_percent.write_parquet(\"70perc_df.parquet\")\n",
        "df_30_percent.write_parquet(\"30perc_df.parquet\")"
      ],
      "metadata": {
        "id": "oCynj68K2ZBw"
      },
      "execution_count": 179,
      "outputs": []
    },
    {
      "cell_type": "code",
      "source": [
        "!ls -l *.csv *.parquet"
      ],
      "metadata": {
        "colab": {
          "base_uri": "https://localhost:8080/"
        },
        "id": "DZZoQLG921xP",
        "outputId": "2e592aa8-8c97-4e71-a26c-4107becefd16"
      },
      "execution_count": 180,
      "outputs": [
        {
          "output_type": "stream",
          "name": "stdout",
          "text": [
            "-rw-r--r-- 1 root root  161656 Apr 14 23:04 30perc_df.csv\n",
            "-rw-r--r-- 1 root root   39584 Apr 14 23:04 30perc_df.parquet\n",
            "-rw-r--r-- 1 root root  377158 Apr 14 23:04 70perc_df.csv\n",
            "-rw-r--r-- 1 root root   81116 Apr 14 23:04 70perc_df.parquet\n",
            "-rw-r--r-- 1 root root 7672655 Sep 21  2019 games.csv\n"
          ]
        }
      ]
    }
  ]
}